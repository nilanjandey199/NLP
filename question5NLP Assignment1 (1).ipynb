{
 "cells": [
  {
   "cell_type": "code",
   "execution_count": null,
   "id": "94c87023-81c9-403c-a9c0-5abfdc8b0a8e",
   "metadata": {},
   "outputs": [],
   "source": []
  },
  {
   "cell_type": "markdown",
   "id": "404b40be-76c2-4a6e-a0b3-bc102ddcaeb4",
   "metadata": {},
   "source": [
    "# NLP Assignment 1 (40% of grade): Text classification for Fake News Detection\n",
    "\n",
    "This coursework will involve you implementing functions for a text classifier, which you will train to detect **fake news** in a corpus of approx. 10,000 statements, which will be split into a 80%/20% training/test split. \n",
    "\n",
    "In this template you are given the basis for that implementation, though some of the functions are missing, which you have to fill in.\n",
    "\n",
    "Follow the instructions file **NLP_Assignment_1_Instructions.pdf** for details of each question - the outline of what needs to be achieved for each question is as below.\n",
    "\n",
    "You must submit all **ipython notebooks and extra resources you need to run the code if you've added them** in the code submission, and a **2 page report (pdf)** in the report submission on QMPlus where you report your methods and findings according to the instructions file for each question."
   ]
  },
  {
   "cell_type": "code",
   "execution_count": 3,
   "id": "dc3ae90b-2586-43b0-810f-0eedb724165f",
   "metadata": {},
   "outputs": [
    {
     "name": "stdout",
     "output_type": "stream",
     "text": [
      "Requirement already satisfied: nltk in /opt/conda/lib/python3.10/site-packages (3.7)\n",
      "Requirement already satisfied: regex>=2021.8.3 in /opt/conda/lib/python3.10/site-packages (from nltk) (2022.10.31)\n",
      "Requirement already satisfied: click in /opt/conda/lib/python3.10/site-packages (from nltk) (8.1.3)\n",
      "Requirement already satisfied: tqdm in /opt/conda/lib/python3.10/site-packages (from nltk) (4.64.1)\n",
      "Requirement already satisfied: joblib in /opt/conda/lib/python3.10/site-packages (from nltk) (1.2.0)\n",
      "\n",
      "\u001b[1m[\u001b[0m\u001b[34;49mnotice\u001b[0m\u001b[1;39;49m]\u001b[0m\u001b[39;49m A new release of pip available: \u001b[0m\u001b[31;49m22.3\u001b[0m\u001b[39;49m -> \u001b[0m\u001b[32;49m22.3.1\u001b[0m\n",
      "\u001b[1m[\u001b[0m\u001b[34;49mnotice\u001b[0m\u001b[1;39;49m]\u001b[0m\u001b[39;49m To update, run: \u001b[0m\u001b[32;49mpip install --upgrade pip\u001b[0m\n"
     ]
    }
   ],
   "source": [
    "!pip install nltk"
   ]
  },
  {
   "cell_type": "code",
   "execution_count": 4,
   "id": "60a79cb1-caa9-458d-8a3d-be15d85258db",
   "metadata": {},
   "outputs": [
    {
     "name": "stderr",
     "output_type": "stream",
     "text": [
      "[nltk_data] Downloading package punkt to /home/jovyan/nltk_data...\n",
      "[nltk_data]   Package punkt is already up-to-date!\n",
      "[nltk_data] Downloading package stopwords to /home/jovyan/nltk_data...\n",
      "[nltk_data]   Package stopwords is already up-to-date!\n",
      "[nltk_data] Downloading package wordnet to /home/jovyan/nltk_data...\n",
      "[nltk_data]   Package wordnet is already up-to-date!\n",
      "[nltk_data] Downloading package omw-1.4 to /home/jovyan/nltk_data...\n",
      "[nltk_data]   Package omw-1.4 is already up-to-date!\n"
     ]
    },
    {
     "data": {
      "text/plain": [
       "True"
      ]
     },
     "execution_count": 4,
     "metadata": {},
     "output_type": "execute_result"
    }
   ],
   "source": [
    "import csv                               # csv reader\n",
    "from sklearn.svm import LinearSVC\n",
    "from nltk.classify import SklearnClassifier\n",
    "from sklearn.pipeline import Pipeline\n",
    "from sklearn.metrics import precision_recall_fscore_support # to report on precision and recall\n",
    "import numpy as np\n",
    "import nltk\n",
    "import nltk\n",
    "import re\n",
    "from sklearn.linear_model import PassiveAggressiveClassifier\n",
    "from nltk.tokenize import word_tokenize\n",
    "nltk.download('punkt')\n",
    "nltk.download('stopwords')\n",
    "nltk.download('wordnet')\n",
    "nltk.download('omw-1.4')\n"
   ]
  },
  {
   "cell_type": "code",
   "execution_count": 5,
   "id": "58fd789c-0d9e-45e6-a116-659758346b27",
   "metadata": {},
   "outputs": [],
   "source": [
    "raw_data=[]\n",
    "def load_data(path):\n",
    "    \"\"\"Load data from a tab-separated file and append it to raw_data.\"\"\"\n",
    "    with open(path) as f:\n",
    "        reader = csv.reader(f, delimiter='\\t')\n",
    "        for line in reader:\n",
    "            if line[0] == \"Id\":  # skip header\n",
    "                continue\n",
    "            (label, text) = parse_data_line(line)\n",
    "            raw_data.append((text, label))\n",
    "\n",
    "def split_and_preprocess_data(percentage):\n",
    "    \"\"\"Split the data between train_data and test_data according to the percentage\n",
    "    and performs the preprocessing.\"\"\"\n",
    "    num_samples = len(raw_data)\n",
    "    num_training_samples = int((percentage * num_samples))\n",
    "    for (text, label) in raw_data[:num_training_samples]:\n",
    "        train_data.append((to_feature_vector(pre_process(text)),label))\n",
    "    for (text, label) in raw_data[num_training_samples:]:\n",
    "        test_data.append((to_feature_vector(pre_process(text)),label))"
   ]
  },
  {
   "cell_type": "markdown",
   "id": "7ec61670-2285-4a6f-b446-79b325aebb4f",
   "metadata": {},
   "source": [
    "# Question 1: Input and Basic preprocessing (10 marks)"
   ]
  },
  {
   "cell_type": "code",
   "execution_count": 6,
   "id": "48a1c994-450b-4eec-b07b-f573359ddb8e",
   "metadata": {},
   "outputs": [],
   "source": [
    "def convert_label(label):\n",
    "    \"\"\"Converts the multiple classes into two,\n",
    "    making it a binary distinction between fake news and real.\"\"\"\n",
    "    #return label\n",
    "    # Converting the multiclass labels to binary label\n",
    "    labels_map = {\n",
    "        'true': 'REAL',\n",
    "        'mostly-true': 'REAL',\n",
    "        'half-true': 'REAL',\n",
    "        'false': 'FAKE',\n",
    "        'barely-true': 'FAKE',\n",
    "        'pants-fire': 'FAKE'\n",
    "    }\n",
    "    return labels_map[label]\n",
    "\n",
    "\n",
    "def parse_data_line(data_line):\n",
    "    # Should return a tuple of the label as just FAKE or REAL and the statement\n",
    "    # e.g. (label, statement)\n",
    "    data_line[1]=convert_label(data_line[1])\n",
    "    label=data_line[1]\n",
    "    text=data_line[2]\n",
    "    dinput=(label,text)\n",
    "    return tuple(dinput)"
   ]
  },
  {
   "cell_type": "code",
   "execution_count": 7,
   "id": "6627e8ff-1f5e-44d5-88a3-b27cafd96921",
   "metadata": {},
   "outputs": [],
   "source": [
    "import re\n",
    "from nltk.corpus import stopwords\n",
    "from nltk.stem.porter import PorterStemmer\n",
    "from nltk.corpus import stopwords\n",
    "from collections import Counter\n",
    "\n",
    "sp = PorterStemmer()\n",
    "s_words = stopwords.words('english')\n",
    "swords_dict = Counter(s_words)\n",
    "\n",
    "def pre_process(text):\n",
    "    #text = clean_text(text)\n",
    "    t = re.sub(r'[^\\w\\s]', '', text).split()\n",
    "    text = [sp.stem(word) for word in t if not word in swords_dict]\n",
    "    return  text"
   ]
  },
  {
   "cell_type": "code",
   "execution_count": 8,
   "id": "67a58456-0dbf-4cbc-bb64-d63c15782893",
   "metadata": {},
   "outputs": [],
   "source": [
    "# Input: a string of one statement\n",
    "tokens = []\n",
    "def pre_process(text):\n",
    "    # Should return a list of tokens\n",
    "    # DESCRIBE YOUR METHOD IN WORDS\n",
    "   # review = re.sub(r'[^a-zA-Z\\s]', '', str(review))\n",
    "\n",
    "    sentence=word_tokenize(text)\n",
    "    sentence = re.sub(r'[^a-zA-Z\\s]', '', text).split()\n",
    "    return sentence"
   ]
  },
  {
   "cell_type": "markdown",
   "id": "15ca2615-f491-41a0-b78e-65e6f10e07d5",
   "metadata": {
    "tags": []
   },
   "source": [
    "# Question 2: Basic Feature Extraction (20 marks)"
   ]
  },
  {
   "cell_type": "code",
   "execution_count": 9,
   "id": "40834bdd-cd44-43a9-aeaf-651e1f5b0e55",
   "metadata": {},
   "outputs": [],
   "source": [
    "global_feature_dict = {} # A global dictionary of features\n",
    "\n",
    "def to_feature_vector(tokens):\n",
    "    # Should return a dictionary containing features as keys, and weights as values\n",
    "    # DESCRIBE YOUR METHOD IN WORDS\n",
    "    global_feature_dict = {}\n",
    "    frequency = []\n",
    "    for m in tokens:\n",
    "        if(m in global_feature_dict):\n",
    "            global_feature_dict[m]=global_feature_dict[m]+1\n",
    "        else:\n",
    "            global_feature_dict[m]=1\n",
    "    return global_feature_dict"
   ]
  },
  {
   "cell_type": "code",
   "execution_count": 16,
   "id": "326ad20f-d52c-4261-bd4b-c94ce04dda78",
   "metadata": {},
   "outputs": [],
   "source": [
    "# TRAINING AND VALIDATING OUR CLASSIFIER\n",
    "\n",
    "def train_classifier(data):\n",
    "    print(\"Training Classifier...\")\n",
    "    pipeline =  Pipeline([('svc', LinearSVC(max_iter=1200000,C=0.00192))])\n",
    "    return SklearnClassifier(pipeline).train(data)"
   ]
  },
  {
   "cell_type": "markdown",
   "id": "ce356e64-80f5-4da4-bef8-205fbca1f672",
   "metadata": {},
   "source": [
    "# Question 3: Cross-validation (20 marks)"
   ]
  },
  {
   "cell_type": "code",
   "execution_count": 17,
   "id": "1abc58cc-4437-4201-8220-561aaade0a1d",
   "metadata": {},
   "outputs": [],
   "source": [
    "#solution\n",
    "from sklearn.metrics import classification_report\n",
    "\n",
    "\n",
    "def cross_validate(dataset, folds):\n",
    "    results = []\n",
    "    fold_size = int(len(dataset)/folds) + 1\n",
    "    \n",
    "    for i in range(0,len(dataset),int(fold_size)):\n",
    "        # insert code here that trains and tests on the 10 folds of data in the dataset\n",
    "        print(\"Fold start on items %d - %d\" % (i, i+fold_size))\n",
    "        # FILL IN THE METHOD HERE\n",
    "        #spliting data \n",
    "        test_Data = dataset[i:(fold_size+i)]\n",
    "        train_Data = dataset[:i]+dataset[(i+fold_size):]\n",
    "        #training\n",
    "        training = train_classifier(train_Data)\n",
    "        testing=[i[0] for i in test_Data]\n",
    "        prediction = predict_labels(testing,training)\n",
    "        tLabels= [i[1] for i in test_Data]\n",
    "        pRep= classification_report(tLabels,prediction)\n",
    "        results.append(pRep)\n",
    "        \n",
    "    return results"
   ]
  },
  {
   "cell_type": "code",
   "execution_count": 18,
   "id": "bc2f4a07-45a6-47fd-88a5-84990f76e810",
   "metadata": {},
   "outputs": [],
   "source": [
    "# PREDICTING LABELS GIVEN A CLASSIFIER\n",
    "\n",
    "def predict_labels(samples, classifier):\n",
    "    \"\"\"Assuming preprocessed samples, return their predicted labels from the classifier model.\"\"\"\n",
    "    return classifier.classify_many(samples)\n",
    "\n",
    "def predict_label_from_raw(sample, classifier):\n",
    "    \"\"\"Assuming raw text, return its predicted label from the classifier model.\"\"\"\n",
    "    return classifier.classify(to_feature_vector(preProcess(reviewSample)))"
   ]
  },
  {
   "cell_type": "code",
   "execution_count": 19,
   "id": "d866539b-7141-4b9f-9d19-89bba592e5d1",
   "metadata": {},
   "outputs": [
    {
     "name": "stdout",
     "output_type": "stream",
     "text": [
      "Now 0 rawData, 0 trainData, 0 testData\n",
      "Preparing the dataset...\n",
      "Now 10241 rawData, 0 trainData, 0 testData\n",
      "Preparing training and test data...\n",
      "After split, 10241 rawData, 8192 trainData, 2049 testData\n",
      "Training Samples: \n",
      "8192\n",
      "Features: \n",
      "0\n"
     ]
    }
   ],
   "source": [
    "# MAIN\n",
    "\n",
    "# loading reviews\n",
    "# initialize global lists that will be appended to by the methods below\n",
    "raw_data = []          # the filtered data from the dataset file\n",
    "train_data = []        # the pre-processed training data as a percentage of the total dataset\n",
    "test_data = []         # the pre-processed test data as a percentage of the total dataset\n",
    "\n",
    "\n",
    "# references to the data files\n",
    "data_file_path = 'fake_news.tsv'\n",
    "\n",
    "# Do the actual stuff (i.e. call the functions we've made)\n",
    "# We parse the dataset and put it in a raw data list\n",
    "print(\"Now %d rawData, %d trainData, %d testData\" % (len(raw_data), len(train_data), len(test_data)),\n",
    "      \"Preparing the dataset...\",sep='\\n')\n",
    "\n",
    "load_data(data_file_path) \n",
    "\n",
    "# We split the raw dataset into a set of training data and a set of test data (80/20)\n",
    "# You do the cross validation on the 80% (training data)\n",
    "# We print the number of training samples and the number of features before the split\n",
    "print(\"Now %d rawData, %d trainData, %d testData\" % (len(raw_data), len(train_data), len(test_data)),\n",
    "      \"Preparing training and test data...\",sep='\\n')\n",
    "\n",
    "split_and_preprocess_data(0.8)\n",
    "\n",
    "# We print the number of training samples and the number of features after the split\n",
    "print(\"After split, %d rawData, %d trainData, %d testData\" % (len(raw_data), len(train_data), len(test_data)),\n",
    "      \"Training Samples: \", len(train_data), \"Features: \", len(global_feature_dict), sep='\\n')\n"
   ]
  },
  {
   "cell_type": "code",
   "execution_count": 20,
   "id": "b6b3e96b-3e34-4a11-b7fd-6c00b6d2441a",
   "metadata": {},
   "outputs": [
    {
     "name": "stdout",
     "output_type": "stream",
     "text": [
      "Fold start on items 0 - 820\n",
      "Training Classifier...\n",
      "Fold start on items 820 - 1640\n",
      "Training Classifier...\n",
      "Fold start on items 1640 - 2460\n",
      "Training Classifier...\n",
      "Fold start on items 2460 - 3280\n",
      "Training Classifier...\n",
      "Fold start on items 3280 - 4100\n",
      "Training Classifier...\n",
      "Fold start on items 4100 - 4920\n",
      "Training Classifier...\n",
      "Fold start on items 4920 - 5740\n",
      "Training Classifier...\n",
      "Fold start on items 5740 - 6560\n",
      "Training Classifier...\n",
      "Fold start on items 6560 - 7380\n",
      "Training Classifier...\n",
      "Fold start on items 7380 - 8200\n",
      "Training Classifier...\n"
     ]
    },
    {
     "data": {
      "text/plain": [
       "['              precision    recall  f1-score   support\\n\\n        FAKE       0.55      0.32      0.41       339\\n        REAL       0.63      0.81      0.71       481\\n\\n    accuracy                           0.61       820\\n   macro avg       0.59      0.57      0.56       820\\nweighted avg       0.60      0.61      0.58       820\\n',\n",
       " '              precision    recall  f1-score   support\\n\\n        FAKE       0.61      0.38      0.47       375\\n        REAL       0.60      0.80      0.69       445\\n\\n    accuracy                           0.60       820\\n   macro avg       0.61      0.59      0.58       820\\nweighted avg       0.61      0.60      0.59       820\\n',\n",
       " '              precision    recall  f1-score   support\\n\\n        FAKE       0.62      0.33      0.43       392\\n        REAL       0.57      0.81      0.67       428\\n\\n    accuracy                           0.58       820\\n   macro avg       0.59      0.57      0.55       820\\nweighted avg       0.59      0.58      0.56       820\\n',\n",
       " '              precision    recall  f1-score   support\\n\\n        FAKE       0.59      0.39      0.47       357\\n        REAL       0.63      0.79      0.70       463\\n\\n    accuracy                           0.62       820\\n   macro avg       0.61      0.59      0.59       820\\nweighted avg       0.61      0.62      0.60       820\\n',\n",
       " '              precision    recall  f1-score   support\\n\\n        FAKE       0.57      0.34      0.42       348\\n        REAL       0.62      0.81      0.70       472\\n\\n    accuracy                           0.61       820\\n   macro avg       0.60      0.57      0.56       820\\nweighted avg       0.60      0.61      0.59       820\\n',\n",
       " '              precision    recall  f1-score   support\\n\\n        FAKE       0.56      0.34      0.42       349\\n        REAL       0.62      0.80      0.70       471\\n\\n    accuracy                           0.60       820\\n   macro avg       0.59      0.57      0.56       820\\nweighted avg       0.59      0.60      0.58       820\\n',\n",
       " '              precision    recall  f1-score   support\\n\\n        FAKE       0.52      0.33      0.40       349\\n        REAL       0.61      0.77      0.68       471\\n\\n    accuracy                           0.59       820\\n   macro avg       0.56      0.55      0.54       820\\nweighted avg       0.57      0.59      0.56       820\\n',\n",
       " '              precision    recall  f1-score   support\\n\\n        FAKE       0.60      0.37      0.46       357\\n        REAL       0.63      0.81      0.70       463\\n\\n    accuracy                           0.62       820\\n   macro avg       0.61      0.59      0.58       820\\nweighted avg       0.61      0.62      0.60       820\\n',\n",
       " '              precision    recall  f1-score   support\\n\\n        FAKE       0.54      0.35      0.43       363\\n        REAL       0.60      0.76      0.67       457\\n\\n    accuracy                           0.58       820\\n   macro avg       0.57      0.55      0.55       820\\nweighted avg       0.57      0.58      0.56       820\\n',\n",
       " '              precision    recall  f1-score   support\\n\\n        FAKE       0.54      0.36      0.43       333\\n        REAL       0.64      0.79      0.70       479\\n\\n    accuracy                           0.61       812\\n   macro avg       0.59      0.57      0.57       812\\nweighted avg       0.60      0.61      0.59       812\\n']"
      ]
     },
     "execution_count": 20,
     "metadata": {},
     "output_type": "execute_result"
    }
   ],
   "source": [
    "cross_validate(train_data, 10)  # will work and output overall performance of p, r, f-score when cv implemented"
   ]
  },
  {
   "cell_type": "markdown",
   "id": "1fa31e50-d2b6-4061-87a9-129e9238ca13",
   "metadata": {},
   "source": [
    "# 4. Error Analysis (10 marks)"
   ]
  },
  {
   "cell_type": "code",
   "execution_count": 21,
   "id": "8d18e30e-9cd3-447c-884a-2e9aa8d0de74",
   "metadata": {},
   "outputs": [],
   "source": [
    "from sklearn import metrics\n",
    "import matplotlib.pyplot as plt\n",
    "# a function to make the confusion matrix readable and pretty\n",
    "def confusion_matrix_heatmap(y_test, preds, labels):\n",
    "    \"\"\"Function to plot a confusion matrix\"\"\"\n",
    "    # pass labels to the confusion matrix function to ensure right order\n",
    "    cm = metrics.confusion_matrix(y_test, preds)\n",
    "    fig = plt.figure(figsize=(10,10))\n",
    "    ax = fig.add_subplot(111)\n",
    "    cax = ax.matshow(cm)\n",
    "    plt.title('Confusion matrix of the classifier')\n",
    "    fig.colorbar(cax)\n",
    "    ax.set_xticks(np.arange(len(labels)))\n",
    "    ax.set_yticks(np.arange(len(labels)))\n",
    "    ax.set_xticklabels( labels, rotation=45)\n",
    "    ax.set_yticklabels( labels)\n",
    "\n",
    "    for i in range(len(cm)):\n",
    "        for j in range(len(cm)):\n",
    "            text = ax.text(j, i, cm[i, j],\n",
    "                           ha=\"center\", va=\"center\", color=\"w\")\n",
    "\n",
    "    plt.xlabel('Predicted')\n",
    "    plt.ylabel('True')\n",
    "    \n",
    "    # fix for mpl bug that cuts off top/bottom of seaborn viz:\n",
    "    b, t = plt.ylim() # discover the values for bottom and top\n",
    "    b += 0.5 # Add 0.5 to the bottom\n",
    "    t -= 0.5 # Subtract 0.5 from the top\n",
    "    plt.ylim(b, t) # update the ylim(bottom, top) values\n",
    "    plt.show() # ta-da!\n",
    "    plt.show()"
   ]
  },
  {
   "cell_type": "code",
   "execution_count": 22,
   "id": "9aac951c-77a1-498d-b331-e7a6300175b8",
   "metadata": {},
   "outputs": [
    {
     "name": "stdout",
     "output_type": "stream",
     "text": [
      "Training Classifier...\n"
     ]
    },
    {
     "data": {
      "image/png": "[encoded data removed]",
      "text/plain": [
       "<Figure size 1000x1000 with 2 Axes>"
      ]
     },
     "metadata": {},
     "output_type": "display_data"
    }
   ],
   "source": [
    "#classifier = PassiveAggressiveClassifier()\n",
    "#classifier.fit(training,testing)\n",
    "training = train_classifier(train_data)\n",
    "testing=[i[0] for i in test_data]\n",
    "prediction = predict_labels(testing,training)\n",
    "tData=[i[1] for i in test_data]\n",
    "confusion_matrix_heatmap(tData,prediction,[\"Real\",\"Fake\"])"
   ]
  }
 ],
 "metadata": {
  "kernelspec": {
   "display_name": "Python 3 (ipykernel)",
   "language": "python",
   "name": "python3"
  },
  "language_info": {
   "codemirror_mode": {
    "name": "ipython",
    "version": 3
   },
   "file_extension": ".py",
   "mimetype": "text/x-python",
   "name": "python",
   "nbconvert_exporter": "python",
   "pygments_lexer": "ipython3",
   "version": "3.10.6"
  }
 },
 "nbformat": 4,
 "nbformat_minor": 5
}
